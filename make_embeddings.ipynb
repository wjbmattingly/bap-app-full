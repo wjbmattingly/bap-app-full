{
 "cells": [
  {
   "cell_type": "code",
   "execution_count": 1,
   "id": "applied-strap",
   "metadata": {},
   "outputs": [],
   "source": [
    "import glob\n",
    "import fasttext\n",
    "import string"
   ]
  },
  {
   "cell_type": "code",
   "execution_count": 2,
   "id": "elegant-conspiracy",
   "metadata": {},
   "outputs": [],
   "source": [
    "files = glob.glob(\"ocr/*.txt\")"
   ]
  },
  {
   "cell_type": "code",
   "execution_count": 3,
   "id": "directed-romania",
   "metadata": {},
   "outputs": [
    {
     "name": "stdout",
     "output_type": "stream",
     "text": [
      "2517\n"
     ]
    }
   ],
   "source": [
    "print (len(files))"
   ]
  },
  {
   "cell_type": "code",
   "execution_count": 54,
   "id": "heavy-services",
   "metadata": {},
   "outputs": [],
   "source": [
    "all_segments = []\n",
    "problem_files = []\n",
    "for file in files:\n",
    "    with open (file, \"r\") as f:\n",
    "        transcript = f.read()\n",
    "        transcript = transcript.split(\"\\n\\n\")\n",
    "        for line in transcript:\n",
    "            if \":\" in line:\n",
    "                line = line.split(\":\")[1].strip()\n",
    "            line = line.lower().replace(\"\\n\", \" \")\n",
    "            op_string = line.translate(str.maketrans(' ', ' ', string.punctuation))\n",
    "            result = ''.join([i for i in op_string if not i.isdigit()])    \n",
    "            words = result.split()\n",
    "            while \"  \" in result:\n",
    "                result = result.replace(\"  \", \" \")\n",
    "            if len(words) > 5:\n",
    "                all_segments.append(result)"
   ]
  },
  {
   "cell_type": "code",
   "execution_count": 55,
   "id": "australian-grass",
   "metadata": {},
   "outputs": [
    {
     "name": "stdout",
     "output_type": "stream",
     "text": [
      "144358\n"
     ]
    }
   ],
   "source": [
    "print (len(all_segments))"
   ]
  },
  {
   "cell_type": "code",
   "execution_count": 56,
   "id": "toxic-latin",
   "metadata": {},
   "outputs": [
    {
     "name": "stdout",
     "output_type": "stream",
     "text": [
      "0\n"
     ]
    }
   ],
   "source": [
    "print (len(problem_files))"
   ]
  },
  {
   "cell_type": "code",
   "execution_count": null,
   "id": "sitting-liver",
   "metadata": {},
   "outputs": [],
   "source": []
  },
  {
   "cell_type": "code",
   "execution_count": null,
   "id": "funded-falls",
   "metadata": {},
   "outputs": [],
   "source": []
  },
  {
   "cell_type": "code",
   "execution_count": 57,
   "id": "practical-planner",
   "metadata": {},
   "outputs": [],
   "source": [
    "with open (\"corpus.txt\", \"w\", encoding=\"utf-8\") as f:\n",
    "    for line in all_segments:\n",
    "        f.write(line+\"\\n\")"
   ]
  },
  {
   "cell_type": "code",
   "execution_count": 65,
   "id": "sixth-relevance",
   "metadata": {},
   "outputs": [],
   "source": [
    "model = fasttext.train_unsupervised('corpus.txt', epoch=8, dim=15)"
   ]
  },
  {
   "cell_type": "code",
   "execution_count": 66,
   "id": "judicial-period",
   "metadata": {},
   "outputs": [
    {
     "data": {
      "text/plain": [
       "[(0.9506638050079346, 'extinguished'),\n",
       " (0.942722737789154, 'extinguisher'),\n",
       " (0.9389336705207825, 'retreat'),\n",
       " (0.9281297922134399, 'extinguish'),\n",
       " (0.9168880581855774, 'retreating'),\n",
       " (0.9048673510551453, 'flare'),\n",
       " (0.8994107246398926, 'flame'),\n",
       " (0.8990781307220459, 'crowd'),\n",
       " (0.8977629542350769, 'fires'),\n",
       " (0.8959998488426208, 'hillside'),\n",
       " (0.8887791633605957, 'climbing'),\n",
       " (0.886260986328125, 'bar'),\n",
       " (0.8851503729820251, 'overturned'),\n",
       " (0.8843189477920532, 'aiming'),\n",
       " (0.8824393153190613, 'out'),\n",
       " (0.8824336528778076, 'exploding'),\n",
       " (0.882267951965332, 'direction'),\n",
       " (0.8809270262718201, 'chopping'),\n",
       " (0.8804014325141907, 'fences'),\n",
       " (0.8787143230438232, 'grass'),\n",
       " (0.8767678737640381, 'spot'),\n",
       " (0.8753336668014526, 'scare'),\n",
       " (0.875309407711029, 'windscreen'),\n",
       " (0.8752269744873047, 'lit'),\n",
       " (0.8734812140464783, 'thrown'),\n",
       " (0.8720890879631042, 'spotlight'),\n",
       " (0.8705471754074097, 'ducked'),\n",
       " (0.8699308037757874, 'running'),\n",
       " (0.8699086308479309, 'directions'),\n",
       " (0.869850754737854, 'firing'),\n",
       " (0.8694792985916138, 'offloaded'),\n",
       " (0.8671768307685852, 'stopping'),\n",
       " (0.8670642375946045, 'dropping'),\n",
       " (0.8666826486587524, 'firewood'),\n",
       " (0.8665849566459656, 'bump'),\n",
       " (0.8661457896232605, 'pavement'),\n",
       " (0.8654128313064575, 'cylinders'),\n",
       " (0.8653761744499207, 'alight'),\n",
       " (0.8641068339347839, 'oncoming'),\n",
       " (0.8630306124687195, 'hurled'),\n",
       " (0.8626008033752441, 'apc'),\n",
       " (0.8620404601097107, 'falling'),\n",
       " (0.8616578578948975, 'slit'),\n",
       " (0.8614621758460999, 'flames'),\n",
       " (0.8612390160560608, 'ignited'),\n",
       " (0.8610334992408752, 'throw'),\n",
       " (0.860683262348175, 'cocked'),\n",
       " (0.8602675199508667, 'forests'),\n",
       " (0.8598894476890564, 'ignite'),\n",
       " (0.8551344275474548, 'surround')]"
      ]
     },
     "execution_count": 66,
     "metadata": {},
     "output_type": "execute_result"
    }
   ],
   "source": [
    "model.get_nearest_neighbors('fire', k=50)"
   ]
  },
  {
   "cell_type": "code",
   "execution_count": 67,
   "id": "federal-hungary",
   "metadata": {},
   "outputs": [],
   "source": [
    "model.save_model(\"model/bap_15.bin\")"
   ]
  },
  {
   "cell_type": "code",
   "execution_count": null,
   "id": "hollywood-prize",
   "metadata": {},
   "outputs": [],
   "source": []
  }
 ],
 "metadata": {
  "kernelspec": {
   "display_name": "Python 3",
   "language": "python",
   "name": "python3"
  },
  "language_info": {
   "codemirror_mode": {
    "name": "ipython",
    "version": 3
   },
   "file_extension": ".py",
   "mimetype": "text/x-python",
   "name": "python",
   "nbconvert_exporter": "python",
   "pygments_lexer": "ipython3",
   "version": "3.9.2"
  }
 },
 "nbformat": 4,
 "nbformat_minor": 5
}
